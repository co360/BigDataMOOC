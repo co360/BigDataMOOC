{
 "cells": [
  {
   "cell_type": "code",
   "execution_count": null,
   "metadata": {
    "collapsed": false
   },
   "outputs": [],
   "source": [
    "%%html\n",
    "<h1>Quiz</h1>\n",
    "\n",
    "<h2>Carga de datos y PCA</h2>\n",
    "\n",
    "<h3>Pregunta 1</h3>\n",
    "¿Al hacer la PCA, qué porcentaje de la información retendremos, si nos quedamos con 32 componentes?\n",
    "<form>\n",
    "    <input type='radio' name='p_1'>88.1</input></br>\n",
    "    <input type='radio' name='p_1'>95.3</input></br>\n",
    "    <input type='radio' name='p_1'>99.9</input></br>\n",
    "    <input type='radio' name='p_1' checked=\"true\">92.6</input>\n",
    "</form>\n",
    "\n",
    "<h3>Pregunta 2</h3>\n",
    "¿Cuál es el valor màximo de la 1ª variable de los datos etiquetados tras transformarlos mediante PCA?\n",
    "<form>\n",
    "    <input type='radio' name='p_2'>1.1</input></br>\n",
    "    <input type='radio' name='p_2' checked=\"true\">27.5</input></br>\n",
    "    <input type='radio' name='p_2'>5.3</input></br>\n",
    "    <input type='radio' name='p_2'>-15.2</input>\n",
    "</form>\n",
    "\n",
    "<h2>Regresión Logística</h2>\n",
    "\n",
    "<h3>Pregunta 3</h3>\n",
    "¿Cuántas galaxias espirales hay en los datos no etiquetados según el modelo de regresión logística?\n",
    "<form>\n",
    "    <input type='radio' name='p_3'>3169</input></br>\n",
    "    <input type='radio' name='p_3'>6299</input></br>\n",
    "    <input type='radio' name='p_3'>10000</input></br>\n",
    "    <input type='radio' name='p_3'>3701</input>\n",
    "</form>\n",
    "\n",
    "<h3>Pregunta 4</h3>\n",
    "Un clasificador que muestre una area de 0.55 por debajo de la curva ROC diremos que es un clasificador \n",
    "<form>\n",
    "    <input type='radio' name='p_4'>bueno</input></br>\n",
    "    <input type='radio' name='p_4'>espectacular</input></br>\n",
    "    <input type='radio' name='p_4'>aleatorio</input></br>\n",
    "    <input type='radio' name='p_4'>perfecto</input>\n",
    "</form>\n",
    "\n",
    "\n",
    "<h2>Redes Neuronales</h2>\n",
    "\n",
    "<h3>Pregunta 4</h3>\n",
    "¿Cuál es el valor màximo de la 1a variable de los datos etiquetados tras transformarlos mediante PCA?\n",
    "<form>\n",
    "    <input type='radio' name='p_1'>0</input></br>\n",
    "    <input type='radio' name='p_1'>1</input></br>\n",
    "    <input type='radio' name='p_1'>1</input></br>\n",
    "    <input type='radio' name='p_1'>21</input>\n",
    "</form>\n",
    "\n",
    "<h3>Pregunta 5</h3>\n",
    "¿Cuál es el valor màximo de la 1a variable de los datos etiquetados tras transformarlos mediante PCA?\n",
    "<form>\n",
    "    <input type='radio' name='p_1'>0</input></br>\n",
    "    <input type='radio' name='p_1'>1</input></br>\n",
    "    <input type='radio' name='p_1'>1</input></br>\n",
    "    <input type='radio' name='p_1'>21</input>\n",
    "</form>\n"
   ]
  },
  {
   "cell_type": "code",
   "execution_count": null,
   "metadata": {
    "collapsed": true
   },
   "outputs": [],
   "source": []
  }
 ],
 "metadata": {
  "anaconda-cloud": {},
  "kernelspec": {
   "display_name": "Python [default]",
   "language": "python",
   "name": "python3"
  },
  "language_info": {
   "codemirror_mode": {
    "name": "ipython",
    "version": 3
   },
   "file_extension": ".py",
   "mimetype": "text/x-python",
   "name": "python",
   "nbconvert_exporter": "python",
   "pygments_lexer": "ipython3",
   "version": "3.5.2"
  }
 },
 "nbformat": 4,
 "nbformat_minor": 1
}
